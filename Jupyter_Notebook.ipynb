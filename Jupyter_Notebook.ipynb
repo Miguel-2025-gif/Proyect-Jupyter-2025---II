{
 "cells": [
  {
   "cell_type": "markdown",
   "metadata": {},
   "source": [
    "<center>\n",
    "    <img src=\"https://cf-courses-data.s3.us.cloud-object-storage.appdomain.cloud/IBMDeveloperSkillsNetwork-DS0105EN-SkillsNetwork/labs/Module2/images/SN_web_lightmode.png\" width=\"300\" alt=\"cognitiveclass.ai logo\">\n",
    "</center>\n"
   ]
  },
  {
   "cell_type": "markdown",
   "metadata": {},
   "source": [
    "#### Add your code below following the instructions given in the course\n"
   ]
  },
  {
   "cell_type": "markdown",
   "metadata": {},
   "source": [
    "# Final proyect - Jupyter Notebook"
   ]
  },
  {
   "cell_type": "markdown",
   "metadata": {},
   "source": [
    "## Introduction\n",
    "This notebook demonstrates basic examples of Markdown and Python applied to Data Science.  \n",
    "The goal is to practice text formatting, create tables, and perform simple calculations in Python."
   ]
  },
  {
   "cell_type": "markdown",
   "metadata": {},
   "source": [
    "## Data Science Languages\n",
    "Some popular programming languages used in Data Science are:\n",
    "- Python\n",
    "- R\n",
    "- SQL\n",
    "- Julia\n",
    "- Scala"
   ]
  },
  {
   "cell_type": "markdown",
   "metadata": {},
   "source": [
    "## Data Science Libraries\n",
    "Some important libraries for Data Science are:\n",
    "- NumPy\n",
    "- Pandas\n",
    "- Matplotlib\n",
    "- Scikit-learn\n",
    "- TensorFlow"
   ]
  },
  {
   "cell_type": "markdown",
   "metadata": {},
   "source": [
    "## Data Science Tools\n",
    "| Tool             | Main Use                        |\n",
    "|------------------|---------------------------------|\n",
    "| Jupyter Notebook | Documentation and code execution|\n",
    "| RStudio          | Statistical analysis            |\n",
    "| Apache Spark     | Big Data processing             |\n",
    "| TensorFlow       | Machine Learning                |\n",
    "| Power BI         | Data visualization              |"
   ]
  },
  {
   "cell_type": "markdown",
   "metadata": {},
   "source": [
    "## Examples of Arithmetic Expressions\n",
    "Some basic arithmetic operations in Python are:\n",
    "- Addition: `3 + 5`\n",
    "- Subtraction: `10 - 2`\n",
    "- Multiplication: `4 * 6`\n",
    "- Division: `8 / 2`"
   ]
  },
  {
   "cell_type": "code",
   "execution_count": 1,
   "metadata": {},
   "outputs": [
    {
     "name": "stdout",
     "output_type": "stream",
     "text": [
      "Multiplicación: 50\n",
      "Suma: 15\n"
     ]
    }
   ],
   "source": [
    "# Multiplication and addition of numbers\n",
    "a = 5\n",
    "b = 10\n",
    "multiplication = a * b\n",
    "addition = a + b\n",
    "print(\"Multiplication:\", multiplication)\n",
    "print(\"Addition:\", addition)"
   ]
  },
  {
   "cell_type": "code",
   "execution_count": 3,
   "metadata": {},
   "outputs": [
    {
     "name": "stdout",
     "output_type": "stream",
     "text": [
      "150 minutos equivalen a 2.5 horas\n"
     ]
    }
   ],
   "source": [
    "# Convert minutes into hours\n",
    "minutes = 150\n",
    "hours = minutes / 60\n",
    "print(minutes, \"minutes equal\", hours, \"hours\")"
   ]
  },
  {
   "cell_type": "code",
   "execution_count": 4,
   "metadata": {},
   "outputs": [
    {
     "name": "stdout",
     "output_type": "stream",
     "text": [
      "1.Aprender a usar Jupyter Notebook\n",
      "2.Practicar Markdown\n",
      "3.Ejecutar operaciones básicas en Python\n",
      "4.Aplicar conceptos de Ciencia de Datos\n"
     ]
    }
   ],
   "source": [
    "# Lista de objetivos\n",
    "objetivos = [\n",
    "    \"Aprender a usar Jupyter Notebook\",\n",
    "    \"Practicar Markdown\",\n",
    "    \"Ejecutar operaciones básicas en Python\",\n",
    "    \"Aplicar conceptos de Ciencia de Datos\"]\n",
    "for i, objetivo in enumerate(objetivos, 1):\n",
    "    print(f\"{i}.{objetivo}\")"
   ]
  },
  {
   "cell_type": "markdown",
   "metadata": {},
   "source": [
    "## Autor\n",
    "**Nombre del estudiante:** [Miguel Angel Leguia Martinez]"
   ]
  }
 ],
 "metadata": {
  "kernelspec": {
   "display_name": "Python 3 (ipykernel)",
   "language": "python",
   "name": "python3"
  },
  "language_info": {
   "codemirror_mode": {
    "name": "ipython",
    "version": 3
   },
   "file_extension": ".py",
   "mimetype": "text/x-python",
   "name": "python",
   "nbconvert_exporter": "python",
   "pygments_lexer": "ipython3",
   "version": "3.12.8"
  }
 },
 "nbformat": 4,
 "nbformat_minor": 4
}
